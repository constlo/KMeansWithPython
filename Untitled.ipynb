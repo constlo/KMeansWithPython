{
 "cells": [
  {
   "cell_type": "code",
   "execution_count": 1,
   "id": "94f0cb28-124e-4362-b220-6eeb0cf071f6",
   "metadata": {},
   "outputs": [],
   "source": [
    "import numpy as np\n",
    "import matplotlib.pyplot as plt\n",
    "import pandas as pd\n",
    "from itertools import chain\n",
    "import pandas as pd\n"
   ]
  },
  {
   "cell_type": "code",
   "execution_count": 2,
   "id": "05d8dd8e-b81f-4525-81fd-9332c8fd32c3",
   "metadata": {},
   "outputs": [
    {
     "name": "stdout",
     "output_type": "stream",
     "text": [
      "120\n"
     ]
    }
   ],
   "source": [
    "#lue putty.log tiedosto ja muokkaa se numpy arrayksi\n",
    "#Käytetään squeeze-metodia, jolla isnompiulotteinen array muokataan peinemmäksi\n",
    "mydf = np.loadtxt('putty.log')\n",
    "print(mydf.size)\n",
    "numberOfRows = 0\n",
    "arraySize = mydf.size\n",
    "threeDivisible = mydf.size % 3\n",
    "if(threeDivisible != 0):\n",
    "    #jos arrayn koko ei ole kolmella jaollinen, täytyy loput alkiot leikata pois.\n",
    "    #Tässä tapauksessa 119 - 2 = 117 -> jaollinen kolmella\n",
    "    arraySize -= threeDivisible\n",
    "#Leikataan 2 viimeistä alkiota pois.\n",
    "handledArray = np.copy(mydf[0:arraySize])\n",
    "lastIndex = int(arraySize / 3)\n",
    "#Muokataan vielä jonosta 2d-array\n",
    "twoDarray = handledArray.reshape(int(handledArray.size / 3), 3)"
   ]
  },
  {
   "cell_type": "code",
   "execution_count": null,
   "id": "ff725ff9-2f46-4076-a5c9-b454c84900b0",
   "metadata": {},
   "outputs": [],
   "source": []
  }
 ],
 "metadata": {
  "kernelspec": {
   "display_name": "Python 3 (ipykernel)",
   "language": "python",
   "name": "python3"
  },
  "language_info": {
   "codemirror_mode": {
    "name": "ipython",
    "version": 3
   },
   "file_extension": ".py",
   "mimetype": "text/x-python",
   "name": "python",
   "nbconvert_exporter": "python",
   "pygments_lexer": "ipython3",
   "version": "3.10.6"
  }
 },
 "nbformat": 4,
 "nbformat_minor": 5
}
